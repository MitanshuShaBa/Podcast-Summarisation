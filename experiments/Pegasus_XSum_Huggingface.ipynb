{
 "cells": [
  {
   "cell_type": "code",
   "execution_count": 1,
   "id": "b4cf71c2-4af6-4a1c-9a10-cb567e810b3b",
   "metadata": {},
   "outputs": [],
   "source": [
    "from transformers import AutoTokenizer, AutoModelForSeq2SeqLM  "
   ]
  },
  {
   "cell_type": "code",
   "execution_count": 2,
   "id": "61b9c99c-2f1f-4195-857f-567872861a53",
   "metadata": {},
   "outputs": [],
   "source": [
    "tokenizer = AutoTokenizer.from_pretrained(\"google/pegasus-xsum\")"
   ]
  },
  {
   "cell_type": "code",
   "execution_count": 3,
   "id": "1bd93630-49ca-4ebe-a8a8-00adc9072d68",
   "metadata": {},
   "outputs": [],
   "source": [
    "model = AutoModelForSeq2SeqLM.from_pretrained(\"google/pegasus-xsum\")"
   ]
  },
  {
   "cell_type": "code",
   "execution_count": 22,
   "id": "bc1ee5c2-6cae-45e2-be86-02954eebc991",
   "metadata": {},
   "outputs": [],
   "source": [
    "text = '''\n",
    "Lets talk about problems faced by people in this country rather than Afghanistan, Peoples Democratic Party (PDP) president Mehbooba Mufti said on Tuesday, having faced flak over her recent statement referring to the Taliban. She alleged that the BJP government has made the lives of the people miserable. The government is not listening to anyone, including the farmers who are on the roads for the past nine months, Mufti added.\n",
    "\"Taliban are in Afghanistan and why talk about them... We have a lot of issues, the biggest being the farmers' protest and the issues of the people of Jammu and Kashmir which was bifurcated, rampant corruption and the lack of development. \"They are claiming that Article 370 was removed for parity but even tenders for our minor minerals and jobs are given to outsiders. Taliban is there but let's talk about our issues as the BJP has made the condition of the people of our country so miserable that they are not even able to buy ration,\" she told reporters in Poonch, where she reached on the first leg of her over a week-long tour of Jammu region. \n",
    "Reacting to a question about the Taliban in Afghanistan, Mufti said farmers provide food for the people of the country but the BJP government has left them on the roads.\n",
    "\"This government is unmoved, which is very unfortunate. They are talking a lot but the fact of the matter is that they do not respect anyone,\" she claimed.\n",
    "Last week, the PDP chief had said the Taliban had \"come to the fore as a reality\" and advised them to follow the true Sharia law that guarantees rights of women, children, and the elderly if they want to govern Afghanistan.\n",
    "\n",
    "The comment led to criticism by sections of the media as well as on social media platforms.\n",
    "A day later, she said she was not surprised her statement on Sharia was deliberately distorted and used as 'click bait' because Muslims are always expected to prove they don't stand for violence.\n",
    "\n",
    "Responding to a question on the upcoming Assembly elections in the union territory, Mufti said, \"Election is not my objective ... My stand is clear that I will continue my struggle for restoration of the prestige, identity and rights of our people which were snatched from us unconstitutionally. I will continue to work to seek a solution to the Kashmir problem so that bloodshed is stopped.\"\n",
    "'''"
   ]
  },
  {
   "cell_type": "code",
   "execution_count": 23,
   "id": "b8ea32b8-43a6-4c27-892b-3b07c6df5f64",
   "metadata": {},
   "outputs": [],
   "source": [
    "# Create tokens\n",
    "tokens = tokenizer(text, truncation=True, padding=\"longest\", return_tensors=\"pt\")"
   ]
  },
  {
   "cell_type": "code",
   "execution_count": 24,
   "id": "ab90fbb8-0b5d-42ab-bb49-3b003021f53b",
   "metadata": {},
   "outputs": [
    {
     "data": {
      "text/plain": [
       "{'input_ids': tensor([[27285,  1002,   160,   743,  4232,   141,   200,   115,   136,   531,\n",
       "           880,   197,  8289,   108, 32773,  5793,  2905,   143, 63909,   158,\n",
       "          1977, 49714, 33070,  6008, 80987,   243,   124,  1842,   108,   458,\n",
       "          4232, 57602,   204,   215,   909,  1736,  8007,   112,   109, 22062,\n",
       "           107,   452,  6854,   120,   109, 18748,   657,   148,   266,   109,\n",
       "           965,   113,   109,   200, 17825,   107,   139,   657,   117,   146,\n",
       "          3343,   112,   966,   108,   330,   109,  4351,   170,   127,   124,\n",
       "           109,  4194,   118,   109,   555,  2899,   590,   108, 80987,   717,\n",
       "           107,   198,   930, 12502, 11485,   127,   115,  8289,   111,   447,\n",
       "          1002,   160,   183,   401,   184,   133,   114,   367,   113,   618,\n",
       "           108,   109,  1715,   270,   109,  4351,   131,  8255,   111,   109,\n",
       "           618,   113,   109,   200,   113, 32149,   111, 18099,   162,   140,\n",
       "          6989, 24334, 48183,   108, 25585,  8365,   111,   109,  1905,   113,\n",
       "           486,   107,   198,  1720,   127,  8085,   120,  8745, 33082,   140,\n",
       "          2515,   118, 36100,   155,   254, 31625,   118,   150,  3502,  7298,\n",
       "           111,  1665,   127,   634,   112, 34063,   107, 22062,   117,   186,\n",
       "           155,   538,   131,   116,  1002,   160,   150,   618,   130,   109,\n",
       "         18748,   148,   266,   109,  1436,   113,   109,   200,   113,   150,\n",
       "           531,   167, 17825,   120,   157,   127,   146,   254,   350,   112,\n",
       "           631, 49988,   745,   265,   898,  9877,   115, 41530, 26978,   108,\n",
       "           241,   265,  2455,   124,   109,   211,  3928,   113,   215,   204,\n",
       "           114,   396,   121,  4254,  1473,   113, 32149,  1322,   107, 33182,\n",
       "           273,   112,   114,   906,   160,   109, 22062,   115,  8289,   108,\n",
       "         80987,   243,  4351,   319,   425,   118,   109,   200,   113,   109,\n",
       "           531,   155,   109, 18748,   657,   148,   518,   183,   124,   109,\n",
       "          4194,   107,   198,   287,   657,   117,  1596, 29192,   252,   108,\n",
       "           162,   117,   221, 11289,   107,   322,   127,  1767,   114,   367,\n",
       "           155,   109,   617,   113,   109,   841,   117,   120,   157,   171,\n",
       "           146,  2132,   966,   745,   265,  4620,   107,  2882,   396,   108,\n",
       "           109, 31599,  3522,   196,   243,   109, 22062,   196,   198, 17554,\n",
       "           112,   109,   118,   326,   130,   114,  1980,   194,   111,  5361,\n",
       "           183,   112,   857,   109,   921, 69722,   775,   120,  8353,  1420,\n",
       "           113,   652,   108,   404,   108,   111,   109,  6979,   175,   157,\n",
       "           245,   112, 18102,  8289,   107,   139,  1929,  1358,   112,  7881,\n",
       "           141,  4201,   113,   109,   636,   130,   210,   130,   124,   525,\n",
       "           636,  3232,   107,   202,   242,   678,   108,   265,   243,   265,\n",
       "           140,   146,  3557,   215,  1736,   124, 69722,   140, 14981, 24504,\n",
       "           111,   263,   130,  1034,  8142, 13994,   131,   262, 10505,   127,\n",
       "           329,  1214,   112,  3486,   157,   272,   131,   144,  1281,   118,\n",
       "          3459,   107,   110, 42735,   112,   114,   906,   124,   109,  2713,\n",
       "          6735,  5614,   115,   109,  4974,  5902,   108, 80987,   243,   108,\n",
       "           198, 67049,   117,   146,   161,  4129,  1256,   600,  1281,   117,\n",
       "           786,   120,   125,   138,   801,   161,  3718,   118,  5052,   113,\n",
       "           109, 23490,   108,  3149,   111,  1420,   113,   150,   200,   162,\n",
       "           195, 42521,   135,   214,  1596, 66647,   107,   125,   138,   801,\n",
       "           112,   201,   112,  2395,   114,   951,   112,   109, 18099,   575,\n",
       "           167,   120, 64918,   117,  3135,   496,   110,     1]]), 'attention_mask': tensor([[1, 1, 1, 1, 1, 1, 1, 1, 1, 1, 1, 1, 1, 1, 1, 1, 1, 1, 1, 1, 1, 1, 1, 1,\n",
       "         1, 1, 1, 1, 1, 1, 1, 1, 1, 1, 1, 1, 1, 1, 1, 1, 1, 1, 1, 1, 1, 1, 1, 1,\n",
       "         1, 1, 1, 1, 1, 1, 1, 1, 1, 1, 1, 1, 1, 1, 1, 1, 1, 1, 1, 1, 1, 1, 1, 1,\n",
       "         1, 1, 1, 1, 1, 1, 1, 1, 1, 1, 1, 1, 1, 1, 1, 1, 1, 1, 1, 1, 1, 1, 1, 1,\n",
       "         1, 1, 1, 1, 1, 1, 1, 1, 1, 1, 1, 1, 1, 1, 1, 1, 1, 1, 1, 1, 1, 1, 1, 1,\n",
       "         1, 1, 1, 1, 1, 1, 1, 1, 1, 1, 1, 1, 1, 1, 1, 1, 1, 1, 1, 1, 1, 1, 1, 1,\n",
       "         1, 1, 1, 1, 1, 1, 1, 1, 1, 1, 1, 1, 1, 1, 1, 1, 1, 1, 1, 1, 1, 1, 1, 1,\n",
       "         1, 1, 1, 1, 1, 1, 1, 1, 1, 1, 1, 1, 1, 1, 1, 1, 1, 1, 1, 1, 1, 1, 1, 1,\n",
       "         1, 1, 1, 1, 1, 1, 1, 1, 1, 1, 1, 1, 1, 1, 1, 1, 1, 1, 1, 1, 1, 1, 1, 1,\n",
       "         1, 1, 1, 1, 1, 1, 1, 1, 1, 1, 1, 1, 1, 1, 1, 1, 1, 1, 1, 1, 1, 1, 1, 1,\n",
       "         1, 1, 1, 1, 1, 1, 1, 1, 1, 1, 1, 1, 1, 1, 1, 1, 1, 1, 1, 1, 1, 1, 1, 1,\n",
       "         1, 1, 1, 1, 1, 1, 1, 1, 1, 1, 1, 1, 1, 1, 1, 1, 1, 1, 1, 1, 1, 1, 1, 1,\n",
       "         1, 1, 1, 1, 1, 1, 1, 1, 1, 1, 1, 1, 1, 1, 1, 1, 1, 1, 1, 1, 1, 1, 1, 1,\n",
       "         1, 1, 1, 1, 1, 1, 1, 1, 1, 1, 1, 1, 1, 1, 1, 1, 1, 1, 1, 1, 1, 1, 1, 1,\n",
       "         1, 1, 1, 1, 1, 1, 1, 1, 1, 1, 1, 1, 1, 1, 1, 1, 1, 1, 1, 1, 1, 1, 1, 1,\n",
       "         1, 1, 1, 1, 1, 1, 1, 1, 1, 1, 1, 1, 1, 1, 1, 1, 1, 1, 1, 1, 1, 1, 1, 1,\n",
       "         1, 1, 1, 1, 1, 1, 1, 1, 1, 1, 1, 1, 1, 1, 1, 1, 1, 1, 1, 1, 1, 1, 1, 1,\n",
       "         1, 1, 1, 1, 1, 1, 1, 1, 1, 1, 1, 1, 1, 1, 1, 1, 1, 1, 1, 1, 1, 1, 1, 1,\n",
       "         1, 1, 1, 1, 1, 1, 1, 1, 1, 1, 1, 1, 1, 1, 1, 1, 1, 1, 1, 1, 1, 1, 1, 1,\n",
       "         1, 1, 1, 1, 1, 1, 1, 1, 1, 1, 1, 1]])}"
      ]
     },
     "execution_count": 24,
     "metadata": {},
     "output_type": "execute_result"
    }
   ],
   "source": [
    "tokens"
   ]
  },
  {
   "cell_type": "code",
   "execution_count": 25,
   "id": "30c574f1-a3d9-4823-8e52-de789a532532",
   "metadata": {},
   "outputs": [],
   "source": [
    "summary = model.generate(**tokens)"
   ]
  },
  {
   "cell_type": "code",
   "execution_count": 26,
   "id": "535a0f0b-3411-4e37-b91d-231742cffcee",
   "metadata": {},
   "outputs": [
    {
     "data": {
      "text/plain": [
       "tensor([[    0,   198,   930, 12502, 11485,   127,   115,  8289,   111,   447,\n",
       "          1002,   160,   183,   401,   145,   133,   114,   367,   113,   618,\n",
       "           108,   109,  1715,   270,   109,  4351,   131,  8255,   111,   109,\n",
       "           618,   113,   109,   200,   113, 32149,   111, 18099,   162,   140,\n",
       "          6989, 24334, 48183,   108, 25585,  8365,   111,   109,  1905,   113,\n",
       "           486,   107,     1]])"
      ]
     },
     "execution_count": 26,
     "metadata": {},
     "output_type": "execute_result"
    }
   ],
   "source": [
    "summary"
   ]
  },
  {
   "cell_type": "code",
   "execution_count": 27,
   "id": "a5e2157c-6fef-4f93-971c-38852195997a",
   "metadata": {},
   "outputs": [
    {
     "data": {
      "text/plain": [
       "'<pad> \"Taliban are in Afghanistan and why talk about them... we have a lot of issues, the biggest being the farmers\\' protest and the issues of the people of Jammu and Kashmir which was bifurcated, rampant corruption and the lack of development.</s>'"
      ]
     },
     "execution_count": 27,
     "metadata": {},
     "output_type": "execute_result"
    }
   ],
   "source": [
    "tokenizer.decode(summary[0])"
   ]
  },
  {
   "cell_type": "code",
   "execution_count": null,
   "id": "b2191421-3798-4a80-b790-b4f7f8e37a32",
   "metadata": {},
   "outputs": [],
   "source": []
  },
  {
   "cell_type": "code",
   "execution_count": null,
   "id": "91f80920-a10c-4651-9d59-e8eae2b04829",
   "metadata": {},
   "outputs": [],
   "source": []
  }
 ],
 "metadata": {
  "kernelspec": {
   "display_name": "Python 3 (ipykernel)",
   "language": "python",
   "name": "python3"
  },
  "language_info": {
   "codemirror_mode": {
    "name": "ipython",
    "version": 3
   },
   "file_extension": ".py",
   "mimetype": "text/x-python",
   "name": "python",
   "nbconvert_exporter": "python",
   "pygments_lexer": "ipython3",
   "version": "3.9.7"
  }
 },
 "nbformat": 4,
 "nbformat_minor": 5
}
