{
 "cells": [
  {
   "cell_type": "code",
   "execution_count": 1,
   "id": "9722e930-7c51-40b2-8ae9-0f71dccc5f98",
   "metadata": {},
   "outputs": [],
   "source": [
    "from fastT5 import export_and_get_onnx_model\n",
    "from transformers import AutoTokenizer"
   ]
  },
  {
   "cell_type": "code",
   "execution_count": 2,
   "id": "bf3fa581-8ddf-457e-aaf2-3efb5fa74016",
   "metadata": {
    "tags": []
   },
   "outputs": [
    {
     "data": {
      "application/vnd.jupyter.widget-view+json": {
       "model_id": "0d2de782a0074638935b4730c4a6bed7",
       "version_major": 2,
       "version_minor": 0
      },
      "text/plain": [
       "Downloading:   0%|          | 0.00/1.20k [00:00<?, ?B/s]"
      ]
     },
     "metadata": {},
     "output_type": "display_data"
    },
    {
     "data": {
      "application/vnd.jupyter.widget-view+json": {
       "model_id": "96c11c89822c4de583ed28795bad16a9",
       "version_major": 2,
       "version_minor": 0
      },
      "text/plain": [
       "Downloading:   0%|          | 0.00/892M [00:00<?, ?B/s]"
      ]
     },
     "metadata": {},
     "output_type": "display_data"
    },
    {
     "name": "stderr",
     "output_type": "stream",
     "text": [
      "Exporting to onnx... |################################| 3/3\n",
      "Quantizing... |################################| 3/3\n",
      "\u001b[?25h"
     ]
    },
    {
     "name": "stdout",
     "output_type": "stream",
     "text": [
      "Setting up onnx model...\n",
      "Done!\n"
     ]
    }
   ],
   "source": [
    "model_name = 't5-base'\n",
    "model = export_and_get_onnx_model(model_name)"
   ]
  },
  {
   "cell_type": "code",
   "execution_count": 8,
   "id": "0bbc5360-4458-426f-aa47-2698247fdc25",
   "metadata": {},
   "outputs": [],
   "source": [
    "text = '''\n",
    "summarize: Lets talk about problems faced by people in this country rather than Afghanistan, party president Mehbooba Mufti said on Tuesday, having faced flak over her recent statement referring to the Taliban. She alleged that the BJP government has made the lives of the people miserable. The government is not listening to anyone, including the farmers who are on the roads for the past nine months, Mufti added.\n",
    "\"Taliban are in Afghanistan and why talk about them... We have a lot of issues, the biggest being the farmers' protest and the issues of the people of Jammu and Kashmir which was bifurcated, rampant corruption and the lack of development. \"They are claiming that Article 370 was removed for parity but even tenders for our minor minerals and jobs are given to outsiders. Taliban is there but let's talk about our issues as the BJP has made the condition of the people of our country so miserable that they are not even able to buy ration,\" she told reporters in Poonch, where she reached on the first leg of her over a week-long tour of Jammu region. \n",
    "Reacting to a question about the Taliban in Afghanistan, Mufti said farmers provide food for the people of the country but the BJP government has left them on the roads.\n",
    "\"This government is unmoved, which is very unfortunate. They are talking a lot but the fact of the matter is that they do not respect anyone,\" she claimed.\n",
    "Last week, the PDP chief had said the Taliban had \"come to the fore as a reality\" and advised them to follow the true Sharia law that guarantees rights of women, children, and the elderly if they want to govern Afghanistan.\n",
    "\n",
    "A day later, she said she was not surprised her statement on Sharia was deliberately distorted and used as 'click bait' because Muslims are always expected to prove they don't stand for violence.\n",
    "\n",
    "Responding to a question on the upcoming Assembly elections in the union territory, Mufti said, \"Election is not my objective ... My stand is clear that I will continue my struggle for restoration of the prestige, identity and rights of our people which were snatched from us unconstitutionally. I will continue to work to seek a solution to the Kashmir problem so that bloodshed is stopped.\"\n",
    "'''"
   ]
  },
  {
   "cell_type": "code",
   "execution_count": 13,
   "id": "98519951-9f3c-4bf0-b35f-5932f209ff8c",
   "metadata": {},
   "outputs": [],
   "source": [
    "text = '''\n",
    "summarize: In fact, if the beans the man exchanged with Jack were not magic beans, I thought Jack was a foolish boy. Because no one goes to exchange a cow for a few beans.\n",
    "Besides, I think Jack is a thief because he entered the giant's castle without his permission, then Jack also steals the giant's hen and harp.\n",
    "*This is just my opinion*\n",
    "But the story was very good. I like it\n",
    "'''"
   ]
  },
  {
   "cell_type": "code",
   "execution_count": 14,
   "id": "c61789cf-6bd9-49ca-bbc6-c6bd79998e6a",
   "metadata": {},
   "outputs": [],
   "source": [
    "tokenizer = AutoTokenizer.from_pretrained(model_name)\n",
    "t_input = text\n",
    "token = tokenizer(t_input, return_tensors='pt')"
   ]
  },
  {
   "cell_type": "code",
   "execution_count": 15,
   "id": "766950f3-05bf-467f-853d-12cd4f647ea2",
   "metadata": {},
   "outputs": [],
   "source": [
    "tokens = model.generate(input_ids=token['input_ids'],\n",
    "               attention_mask=token['attention_mask'],\n",
    "               num_beams=2)"
   ]
  },
  {
   "cell_type": "code",
   "execution_count": 16,
   "id": "78bcaaff-135d-4ff1-b61d-6800924c5a58",
   "metadata": {},
   "outputs": [],
   "source": [
    "output = tokenizer.decode(tokens.squeeze(), skip_special_tokens=True)"
   ]
  },
  {
   "cell_type": "code",
   "execution_count": 7,
   "id": "23471804-2d32-43d5-96ba-17c939bfd061",
   "metadata": {},
   "outputs": [
    {
     "data": {
      "text/plain": [
       "'party president says the BJP government has made the lives of the people miserable. she says'"
      ]
     },
     "execution_count": 7,
     "metadata": {},
     "output_type": "execute_result"
    }
   ],
   "source": [
    "output"
   ]
  },
  {
   "cell_type": "code",
   "execution_count": 17,
   "id": "de3d67da-9493-43a7-b36c-d7183bc9c5b1",
   "metadata": {},
   "outputs": [
    {
     "data": {
      "text/plain": [
       "'the story was very good, but i think Jack is a thief '"
      ]
     },
     "execution_count": 17,
     "metadata": {},
     "output_type": "execute_result"
    }
   ],
   "source": [
    "output"
   ]
  },
  {
   "cell_type": "code",
   "execution_count": null,
   "id": "a5fbce14-0fd7-4cb9-9d81-ba208c0e6010",
   "metadata": {},
   "outputs": [],
   "source": []
  }
 ],
 "metadata": {
  "kernelspec": {
   "display_name": "Python 3 (ipykernel)",
   "language": "python",
   "name": "python3"
  },
  "language_info": {
   "codemirror_mode": {
    "name": "ipython",
    "version": 3
   },
   "file_extension": ".py",
   "mimetype": "text/x-python",
   "name": "python",
   "nbconvert_exporter": "python",
   "pygments_lexer": "ipython3",
   "version": "3.9.7"
  }
 },
 "nbformat": 4,
 "nbformat_minor": 5
}
