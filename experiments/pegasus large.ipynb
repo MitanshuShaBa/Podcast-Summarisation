{
 "cells": [
  {
   "cell_type": "code",
   "execution_count": 1,
   "id": "9ae72831-585c-408f-b9dc-eb786bcde94a",
   "metadata": {},
   "outputs": [],
   "source": [
    "import os\n",
    "os.environ['TRANSFORMERS_CACHE'] = 'cache_dir/'"
   ]
  },
  {
   "cell_type": "code",
   "execution_count": 2,
   "id": "b4cf71c2-4af6-4a1c-9a10-cb567e810b3b",
   "metadata": {},
   "outputs": [],
   "source": [
    "from transformers import AutoTokenizer, AutoModelForSeq2SeqLM  "
   ]
  },
  {
   "cell_type": "code",
   "execution_count": 3,
   "id": "61b9c99c-2f1f-4195-857f-567872861a53",
   "metadata": {},
   "outputs": [
    {
     "data": {
      "application/vnd.jupyter.widget-view+json": {
       "model_id": "d9a2558c19f94eb08c0a61732aac254f",
       "version_major": 2,
       "version_minor": 0
      },
      "text/plain": [
       "Downloading:   0%|          | 0.00/3.09k [00:00<?, ?B/s]"
      ]
     },
     "metadata": {},
     "output_type": "display_data"
    },
    {
     "data": {
      "application/vnd.jupyter.widget-view+json": {
       "model_id": "6e836cb732cd4b5e8978c1d5d8e9dbb1",
       "version_major": 2,
       "version_minor": 0
      },
      "text/plain": [
       "Downloading:   0%|          | 0.00/1.91M [00:00<?, ?B/s]"
      ]
     },
     "metadata": {},
     "output_type": "display_data"
    },
    {
     "data": {
      "application/vnd.jupyter.widget-view+json": {
       "model_id": "968ee8392747412fa2cbbb62308a6654",
       "version_major": 2,
       "version_minor": 0
      },
      "text/plain": [
       "Downloading:   0%|          | 0.00/65.0 [00:00<?, ?B/s]"
      ]
     },
     "metadata": {},
     "output_type": "display_data"
    },
    {
     "data": {
      "application/vnd.jupyter.widget-view+json": {
       "model_id": "ea9cb05c0cbc436d98d431393636ce86",
       "version_major": 2,
       "version_minor": 0
      },
      "text/plain": [
       "Downloading:   0%|          | 0.00/88.0 [00:00<?, ?B/s]"
      ]
     },
     "metadata": {},
     "output_type": "display_data"
    }
   ],
   "source": [
    "tokenizer = AutoTokenizer.from_pretrained(\"google/pegasus-large\")"
   ]
  },
  {
   "cell_type": "code",
   "execution_count": 4,
   "id": "1bd93630-49ca-4ebe-a8a8-00adc9072d68",
   "metadata": {},
   "outputs": [
    {
     "data": {
      "application/vnd.jupyter.widget-view+json": {
       "model_id": "12d043e0e3e544458e4553c03f98dab7",
       "version_major": 2,
       "version_minor": 0
      },
      "text/plain": [
       "Downloading:   0%|          | 0.00/2.28G [00:00<?, ?B/s]"
      ]
     },
     "metadata": {},
     "output_type": "display_data"
    }
   ],
   "source": [
    "model = AutoModelForSeq2SeqLM.from_pretrained(\"google/pegasus-large\")"
   ]
  },
  {
   "cell_type": "code",
   "execution_count": 5,
   "id": "bc1ee5c2-6cae-45e2-be86-02954eebc991",
   "metadata": {},
   "outputs": [],
   "source": [
    "text = '''\n",
    "Lets talk about problems faced by people in this country rather than Afghanistan, Peoples Democratic Party (PDP) president Mehbooba Mufti said on Tuesday, having faced flak over her recent statement referring to the Taliban. She alleged that the BJP government has made the lives of the people miserable. The government is not listening to anyone, including the farmers who are on the roads for the past nine months, Mufti added.\n",
    "\"Taliban are in Afghanistan and why talk about them... We have a lot of issues, the biggest being the farmers' protest and the issues of the people of Jammu and Kashmir which was bifurcated, rampant corruption and the lack of development. \"They are claiming that Article 370 was removed for parity but even tenders for our minor minerals and jobs are given to outsiders. Taliban is there but let's talk about our issues as the BJP has made the condition of the people of our country so miserable that they are not even able to buy ration,\" she told reporters in Poonch, where she reached on the first leg of her over a week-long tour of Jammu region. \n",
    "Reacting to a question about the Taliban in Afghanistan, Mufti said farmers provide food for the people of the country but the BJP government has left them on the roads.\n",
    "\"This government is unmoved, which is very unfortunate. They are talking a lot but the fact of the matter is that they do not respect anyone,\" she claimed.\n",
    "Last week, the PDP chief had said the Taliban had \"come to the fore as a reality\" and advised them to follow the true Sharia law that guarantees rights of women, children, and the elderly if they want to govern Afghanistan.\n",
    "\n",
    "The comment led to criticism by sections of the media as well as on social media platforms.\n",
    "A day later, she said she was not surprised her statement on Sharia was deliberately distorted and used as 'click bait' because Muslims are always expected to prove they don't stand for violence.\n",
    "\n",
    "Responding to a question on the upcoming Assembly elections in the union territory, Mufti said, \"Election is not my objective ... My stand is clear that I will continue my struggle for restoration of the prestige, identity and rights of our people which were snatched from us unconstitutionally. I will continue to work to seek a solution to the Kashmir problem so that bloodshed is stopped.\"\n",
    "'''"
   ]
  },
  {
   "cell_type": "code",
   "execution_count": 6,
   "id": "b8ea32b8-43a6-4c27-892b-3b07c6df5f64",
   "metadata": {
    "tags": []
   },
   "outputs": [],
   "source": [
    "# Create tokens\n",
    "tokens = tokenizer(text, truncation=True, padding=\"longest\", return_tensors=\"pt\")"
   ]
  },
  {
   "cell_type": "code",
   "execution_count": 7,
   "id": "30c574f1-a3d9-4823-8e52-de789a532532",
   "metadata": {},
   "outputs": [],
   "source": [
    "summary = model.generate(**tokens)"
   ]
  },
  {
   "cell_type": "code",
   "execution_count": 8,
   "id": "bea097b8-461b-4e2a-b5f1-71ca7c433d98",
   "metadata": {},
   "outputs": [
    {
     "data": {
      "text/plain": [
       "'<pad> Lets talk about problems faced by people in this country rather than Afghanistan, Peoples Democratic Party (PDP) president Mehbooba Mufti said on Tuesday, having faced flak over her recent statement referring to the Taliban. Taliban is there but let\\'s talk about our issues as the BJP has made the condition of the people of our country so miserable that they are not even able to buy ration,\" she told reporters in Poonch, where she reached on the first leg of her over a week-long tour of Jammu region. Reacting to a question about the Taliban in Afghanistan, Mufti said farmers provide food for the people of the country but the BJP government has left them on the roads.</s>'"
      ]
     },
     "execution_count": 8,
     "metadata": {},
     "output_type": "execute_result"
    }
   ],
   "source": [
    "tokenizer.decode(summary[0])"
   ]
  },
  {
   "cell_type": "code",
   "execution_count": 9,
   "id": "c5244b0e-bde5-4ffc-ae98-8775660a1267",
   "metadata": {},
   "outputs": [],
   "source": [
    "text = '''\n",
    "In fact, if the beans the man exchanged with Jack were not magic beans, I thought Jack was a foolish boy. Because no one goes to exchange a cow for a few beans.\n",
    "Besides, I think Jack is a thief because he entered the giant's castle without his permission, then Jack also steals the giant's hen and harp.\n",
    "*This is just my opinion*\n",
    "But the story was very good. I like it\n",
    "'''"
   ]
  },
  {
   "cell_type": "code",
   "execution_count": 10,
   "id": "6781542d-07ac-4f4e-a93d-37f060cb6d74",
   "metadata": {
    "tags": []
   },
   "outputs": [],
   "source": [
    "# Create tokens\n",
    "tokens = tokenizer(text, truncation=True, padding=\"longest\", return_tensors=\"pt\")"
   ]
  },
  {
   "cell_type": "code",
   "execution_count": 11,
   "id": "2c8c03a3-be13-48a2-bbf8-424d0282d1ba",
   "metadata": {},
   "outputs": [],
   "source": [
    "summary = model.generate(**tokens)"
   ]
  },
  {
   "cell_type": "code",
   "execution_count": 12,
   "id": "a5e2157c-6fef-4f93-971c-38852195997a",
   "metadata": {},
   "outputs": [
    {
     "data": {
      "text/plain": [
       "'<pad> In fact, if the beans the man exchanged with Jack were not magic beans, I thought Jack was a foolish boy.</s>'"
      ]
     },
     "execution_count": 12,
     "metadata": {},
     "output_type": "execute_result"
    }
   ],
   "source": [
    "tokenizer.decode(summary[0])"
   ]
  },
  {
   "cell_type": "code",
   "execution_count": null,
   "id": "b2191421-3798-4a80-b790-b4f7f8e37a32",
   "metadata": {},
   "outputs": [],
   "source": []
  }
 ],
 "metadata": {
  "kernelspec": {
   "display_name": "Python 3 (ipykernel)",
   "language": "python",
   "name": "python3"
  },
  "language_info": {
   "codemirror_mode": {
    "name": "ipython",
    "version": 3
   },
   "file_extension": ".py",
   "mimetype": "text/x-python",
   "name": "python",
   "nbconvert_exporter": "python",
   "pygments_lexer": "ipython3",
   "version": "3.9.7"
  }
 },
 "nbformat": 4,
 "nbformat_minor": 5
}
