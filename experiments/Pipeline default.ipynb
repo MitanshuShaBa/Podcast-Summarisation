{
 "cells": [
  {
   "cell_type": "code",
   "execution_count": 1,
   "id": "d45b5a5e-df56-4037-986a-c0002f116211",
   "metadata": {},
   "outputs": [],
   "source": [
    "import os\n",
    "os.environ['TRANSFORMERS_CACHE'] = 'cache_dir/'"
   ]
  },
  {
   "cell_type": "code",
   "execution_count": 2,
   "id": "64899fdc-5968-431b-a3b5-62be2f106bae",
   "metadata": {},
   "outputs": [
    {
     "name": "stderr",
     "output_type": "stream",
     "text": [
      "D:\\Miniconda\\envs\\podsum\\lib\\site-packages\\torchaudio\\extension\\extension.py:13: UserWarning: torchaudio C++ extension is not available.\n",
      "  warnings.warn('torchaudio C++ extension is not available.')\n",
      "D:\\Miniconda\\envs\\podsum\\lib\\site-packages\\torchaudio\\backend\\utils.py:89: UserWarning: No audio backend is available.\n",
      "  warnings.warn('No audio backend is available.')\n"
     ]
    }
   ],
   "source": [
    "from transformers import pipeline"
   ]
  },
  {
   "cell_type": "code",
   "execution_count": 3,
   "id": "a2ade95e-643a-4c99-b165-d59bdfcff364",
   "metadata": {},
   "outputs": [
    {
     "data": {
      "application/vnd.jupyter.widget-view+json": {
       "model_id": "70a2bd0a8797432b946311bb30176da2",
       "version_major": 2,
       "version_minor": 0
      },
      "text/plain": [
       "Downloading:   0%|          | 0.00/1.80k [00:00<?, ?B/s]"
      ]
     },
     "metadata": {},
     "output_type": "display_data"
    },
    {
     "data": {
      "application/vnd.jupyter.widget-view+json": {
       "model_id": "ae2efa8ab0554e7b8a70b018ab23c76e",
       "version_major": 2,
       "version_minor": 0
      },
      "text/plain": [
       "Downloading:   0%|          | 0.00/1.22G [00:00<?, ?B/s]"
      ]
     },
     "metadata": {},
     "output_type": "display_data"
    },
    {
     "data": {
      "application/vnd.jupyter.widget-view+json": {
       "model_id": "35e506447fcd4472bc4276308a01cb1d",
       "version_major": 2,
       "version_minor": 0
      },
      "text/plain": [
       "Downloading:   0%|          | 0.00/899k [00:00<?, ?B/s]"
      ]
     },
     "metadata": {},
     "output_type": "display_data"
    },
    {
     "data": {
      "application/vnd.jupyter.widget-view+json": {
       "model_id": "c8e7476170c9400ab3fbe85f992d3660",
       "version_major": 2,
       "version_minor": 0
      },
      "text/plain": [
       "Downloading:   0%|          | 0.00/456k [00:00<?, ?B/s]"
      ]
     },
     "metadata": {},
     "output_type": "display_data"
    },
    {
     "data": {
      "application/vnd.jupyter.widget-view+json": {
       "model_id": "b9ae99bae3b14b2aa4cb1f57d6dd214b",
       "version_major": 2,
       "version_minor": 0
      },
      "text/plain": [
       "Downloading:   0%|          | 0.00/26.0 [00:00<?, ?B/s]"
      ]
     },
     "metadata": {},
     "output_type": "display_data"
    },
    {
     "data": {
      "text/plain": [
       "[{'summary_text': ' PDP chief says the government is not listening to the people of Jammu and Kashmir . He said the government has left the people on the roads without food . The PDP leader said the Taliban had \"come to the fore as a reality\" and advised them to follow the true Sharia law .'}]"
      ]
     },
     "execution_count": 3,
     "metadata": {},
     "output_type": "execute_result"
    }
   ],
   "source": [
    "summarizer = pipeline(\"summarization\")\n",
    "summarizer('''\n",
    "Lets talk about problems faced by people in this country rather than Afghanistan, Peoples Democratic Party (PDP) president Mehbooba Mufti said on Tuesday, having faced flak over her recent statement referring to the Taliban. She alleged that the BJP government has made the lives of the people miserable. The government is not listening to anyone, including the farmers who are on the roads for the past nine months, Mufti added.\n",
    "\"Taliban are in Afghanistan and why talk about them... We have a lot of issues, the biggest being the farmers' protest and the issues of the people of Jammu and Kashmir which was bifurcated, rampant corruption and the lack of development. \"They are claiming that Article 370 was removed for parity but even tenders for our minor minerals and jobs are given to outsiders. Taliban is there but let's talk about our issues as the BJP has made the condition of the people of our country so miserable that they are not even able to buy ration,\" she told reporters in Poonch, where she reached on the first leg of her over a week-long tour of Jammu region. \n",
    "Reacting to a question about the Taliban in Afghanistan, Mufti said farmers provide food for the people of the country but the BJP government has left them on the roads.\n",
    "\"This government is unmoved, which is very unfortunate. They are talking a lot but the fact of the matter is that they do not respect anyone,\" she claimed.\n",
    "Last week, the PDP chief had said the Taliban had \"come to the fore as a reality\" and advised them to follow the true Sharia law that guarantees rights of women, children, and the elderly if they want to govern Afghanistan.\n",
    "\n",
    "The comment led to criticism by sections of the media as well as on social media platforms.\n",
    "A day later, she said she was not surprised her statement on Sharia was deliberately distorted and used as 'click bait' because Muslims are always expected to prove they don't stand for violence.\n",
    "\n",
    "Responding to a question on the upcoming Assembly elections in the union territory, Mufti said, \"Election is not my objective ... My stand is clear that I will continue my struggle for restoration of the prestige, identity and rights of our people which were snatched from us unconstitutionally. I will continue to work to seek a solution to the Kashmir problem so that bloodshed is stopped.\"\n",
    "''')"
   ]
  },
  {
   "cell_type": "code",
   "execution_count": 4,
   "id": "8e2457eb-b85a-4caa-867a-8d85b38a5add",
   "metadata": {},
   "outputs": [
    {
     "name": "stderr",
     "output_type": "stream",
     "text": [
      "Your max_length is set to 142, but you input_length is only 93. You might consider decreasing max_length manually, e.g. summarizer('...', max_length=50)\n"
     ]
    },
    {
     "data": {
      "text/plain": [
       "[{'summary_text': \" If the beans the man exchanged with Jack were not magic beans, I thought Jack was a foolish boy . Because no one goes to exchange a cow for a few beans . Besides, I think Jack is a thief because he entered the giant's castle without his permission . This is just my opinion*\"}]"
      ]
     },
     "execution_count": 4,
     "metadata": {},
     "output_type": "execute_result"
    }
   ],
   "source": [
    "summarizer = pipeline(\"summarization\")\n",
    "summarizer('''\n",
    "In fact, if the beans the man exchanged with Jack were not magic beans, I thought Jack was a foolish boy. Because no one goes to exchange a cow for a few beans.\n",
    "Besides, I think Jack is a thief because he entered the giant's castle without his permission, then Jack also steals the giant's hen and harp.\n",
    "*This is just my opinion*\n",
    "But the story was very good. I like it\n",
    "''')"
   ]
  },
  {
   "cell_type": "code",
   "execution_count": null,
   "id": "be13db4a-55e7-4396-bed9-7f11f92fda3c",
   "metadata": {},
   "outputs": [],
   "source": []
  }
 ],
 "metadata": {
  "kernelspec": {
   "display_name": "Python 3 (ipykernel)",
   "language": "python",
   "name": "python3"
  },
  "language_info": {
   "codemirror_mode": {
    "name": "ipython",
    "version": 3
   },
   "file_extension": ".py",
   "mimetype": "text/x-python",
   "name": "python",
   "nbconvert_exporter": "python",
   "pygments_lexer": "ipython3",
   "version": "3.9.7"
  }
 },
 "nbformat": 4,
 "nbformat_minor": 5
}
